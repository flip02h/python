{
 "cells": [
  {
   "cell_type": "code",
   "execution_count": 1,
   "id": "223eacc3-9957-4453-b22c-be66b7a45c8a",
   "metadata": {},
   "outputs": [],
   "source": [
    "import numpy as np\n",
    "\n"
   ]
  },
  {
   "cell_type": "code",
   "execution_count": 3,
   "id": "b6550cb8-458b-4fd8-a428-df907be7b095",
   "metadata": {},
   "outputs": [],
   "source": [
    "mat = [[0, 1, 2, 3, 4], [5, 6, 7, 8, 9], [10, 11, 12, 13, 14]]"
   ]
  },
  {
   "cell_type": "code",
   "execution_count": 6,
   "id": "d55639e8-deba-4562-a9c6-8fa0a8163174",
   "metadata": {},
   "outputs": [],
   "source": [
    "mat = np.array(mat)\n",
    "riga = int(input(\"Inserisci l'indice della riga (0, 1, 2): \"))  # Indice della riga\n",
    "colonna = int(input(\"Inserisci l'indice della colonna (0, 1, 2, 3, 4): \"))"
   ]
  },
  {
   "cell_type": "code",
   "execution_count": null,
   "id": "1bc8b253-f79b-43fd-b4fa-17a67846afbf",
   "metadata": {},
   "outputs": [],
   "source": [
    "riga = int(input(\"Inserisci l'indice della riga (0, 1, 2): \"))  \n",
    "colonna = int(input(\"Inserisci l'indice della colonna (0, 1, 2, 3, 4): \"))\n",
    "elemento = mat[riga][colonna]\n",
    "print(f\"L'elemento alla riga {riga} e colonna {colonna} è: {elemento}\")"
   ]
  },
  {
   "cell_type": "code",
   "execution_count": null,
   "id": "092f3038-ea98-4b9e-b1e5-43717456a94c",
   "metadata": {},
   "outputs": [],
   "source": []
  }
 ],
 "metadata": {
  "kernelspec": {
   "display_name": "Python [conda env:base] *",
   "language": "python",
   "name": "conda-base-py"
  },
  "language_info": {
   "codemirror_mode": {
    "name": "ipython",
    "version": 3
   },
   "file_extension": ".py",
   "mimetype": "text/x-python",
   "name": "python",
   "nbconvert_exporter": "python",
   "pygments_lexer": "ipython3",
   "version": "3.12.7"
  }
 },
 "nbformat": 4,
 "nbformat_minor": 5
}
