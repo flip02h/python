{
 "cells": [
  {
   "cell_type": "code",
   "execution_count": 1,
   "id": "f2620618-2e0b-4ecc-aee5-55a35080f8cc",
   "metadata": {},
   "outputs": [
    {
     "name": "stdout",
     "output_type": "stream",
     "text": [
      "Collecting polars\n",
      "  Downloading polars-1.17.1-cp39-abi3-win_amd64.whl.metadata (15 kB)\n",
      "Downloading polars-1.17.1-cp39-abi3-win_amd64.whl (35.9 MB)\n",
      "   ---------------------------------------- 0.0/35.9 MB ? eta -:--:--\n",
      "   -------- ------------------------------- 7.3/35.9 MB 41.2 MB/s eta 0:00:01\n",
      "   -------------------- ------------------- 18.6/35.9 MB 48.9 MB/s eta 0:00:01\n",
      "   --------------------------------- ------ 30.4/35.9 MB 52.2 MB/s eta 0:00:01\n",
      "   ---------------------------------------- 35.9/35.9 MB 44.8 MB/s eta 0:00:00\n",
      "Installing collected packages: polars\n",
      "Successfully installed polars-1.17.1\n",
      "Note: you may need to restart the kernel to use updated packages.\n"
     ]
    }
   ],
   "source": [
    "pip install polars"
   ]
  },
  {
   "cell_type": "code",
   "execution_count": 3,
   "id": "a8410de8-9ec5-407d-8608-6f7b71f77702",
   "metadata": {},
   "outputs": [
    {
     "name": "stdout",
     "output_type": "stream",
     "text": [
      "Collecting humanize\n",
      "  Downloading humanize-4.11.0-py3-none-any.whl.metadata (7.8 kB)\n",
      "Downloading humanize-4.11.0-py3-none-any.whl (128 kB)\n",
      "Installing collected packages: humanize\n",
      "Successfully installed humanize-4.11.0\n",
      "Note: you may need to restart the kernel to use updated packages.\n"
     ]
    }
   ],
   "source": [
    "pip install humanize"
   ]
  },
  {
   "cell_type": "code",
   "execution_count": 5,
   "id": "e7bcafa0-55e3-47ef-ae0a-4c2fb49f29a1",
   "metadata": {},
   "outputs": [
    {
     "ename": "SyntaxError",
     "evalue": "invalid syntax (1864953055.py, line 1)",
     "output_type": "error",
     "traceback": [
      "\u001b[1;36m  Cell \u001b[1;32mIn[5], line 1\u001b[1;36m\u001b[0m\n\u001b[1;33m    numpy install humanize\u001b[0m\n\u001b[1;37m          ^\u001b[0m\n\u001b[1;31mSyntaxError\u001b[0m\u001b[1;31m:\u001b[0m invalid syntax\n"
     ]
    }
   ],
   "source": [
    "numpy install humanize"
   ]
  },
  {
   "cell_type": "code",
   "execution_count": 7,
   "id": "5bd4808f-0940-424f-b4c2-3dd04503e506",
   "metadata": {},
   "outputs": [
    {
     "name": "stdout",
     "output_type": "stream",
     "text": [
      "Requirement already satisfied: numpy in c:\\users\\pirod\\anaconda3\\lib\\site-packages (1.26.4)\n",
      "Note: you may need to restart the kernel to use updated packages.\n"
     ]
    }
   ],
   "source": [
    "pip install numpy"
   ]
  },
  {
   "cell_type": "code",
   "execution_count": 9,
   "id": "e83e4161-3671-4184-829c-ae91eed57f40",
   "metadata": {},
   "outputs": [
    {
     "name": "stdout",
     "output_type": "stream",
     "text": [
      "Requirement already satisfied: pandas in c:\\users\\pirod\\anaconda3\\lib\\site-packages (2.2.2)\n",
      "Requirement already satisfied: numpy>=1.26.0 in c:\\users\\pirod\\anaconda3\\lib\\site-packages (from pandas) (1.26.4)\n",
      "Requirement already satisfied: python-dateutil>=2.8.2 in c:\\users\\pirod\\anaconda3\\lib\\site-packages (from pandas) (2.9.0.post0)\n",
      "Requirement already satisfied: pytz>=2020.1 in c:\\users\\pirod\\anaconda3\\lib\\site-packages (from pandas) (2024.1)\n",
      "Requirement already satisfied: tzdata>=2022.7 in c:\\users\\pirod\\anaconda3\\lib\\site-packages (from pandas) (2023.3)\n",
      "Requirement already satisfied: six>=1.5 in c:\\users\\pirod\\anaconda3\\lib\\site-packages (from python-dateutil>=2.8.2->pandas) (1.16.0)\n",
      "Note: you may need to restart the kernel to use updated packages.\n"
     ]
    }
   ],
   "source": [
    "pip install pandas"
   ]
  },
  {
   "cell_type": "code",
   "execution_count": 11,
   "id": "d2089d30-f0d3-4a5f-aaff-7634f1a9dca7",
   "metadata": {},
   "outputs": [],
   "source": [
    "import numpy as np\n",
    "number=[1, 5, 8,-10, 28, 34, 567, 45.67]\n",
    "array=np.array(number)"
   ]
  },
  {
   "cell_type": "code",
   "execution_count": 13,
   "id": "279827d7-dc64-4795-887c-a08d0fd7ab06",
   "metadata": {},
   "outputs": [
    {
     "data": {
      "text/plain": [
       "numpy.ndarray"
      ]
     },
     "execution_count": 13,
     "metadata": {},
     "output_type": "execute_result"
    }
   ],
   "source": [
    "type(array)"
   ]
  },
  {
   "cell_type": "code",
   "execution_count": 15,
   "id": "e6630fca-8028-4f1f-8833-471be9c14f4a",
   "metadata": {},
   "outputs": [
    {
     "data": {
      "text/plain": [
       "array([  1.  ,   5.  ,   8.  , -10.  ,  28.  ,  34.  , 567.  ,  45.67])"
      ]
     },
     "execution_count": 15,
     "metadata": {},
     "output_type": "execute_result"
    }
   ],
   "source": [
    "array"
   ]
  },
  {
   "cell_type": "code",
   "execution_count": 17,
   "id": "76b88730-b1b0-4903-b95c-052b58da126a",
   "metadata": {},
   "outputs": [
    {
     "data": {
      "text/plain": [
       "-10.0"
      ]
     },
     "execution_count": 17,
     "metadata": {},
     "output_type": "execute_result"
    }
   ],
   "source": [
    "array.min()"
   ]
  },
  {
   "cell_type": "code",
   "execution_count": 19,
   "id": "5f61e639-41a9-493d-a735-425fa0475336",
   "metadata": {},
   "outputs": [
    {
     "data": {
      "text/plain": [
       "int"
      ]
     },
     "execution_count": 19,
     "metadata": {},
     "output_type": "execute_result"
    }
   ],
   "source": [
    "type(-10)"
   ]
  },
  {
   "cell_type": "code",
   "execution_count": 21,
   "id": "2fcd1020-5965-4097-a27c-44c4b40a2cea",
   "metadata": {},
   "outputs": [
    {
     "data": {
      "text/plain": [
       "84.83375"
      ]
     },
     "execution_count": 21,
     "metadata": {},
     "output_type": "execute_result"
    }
   ],
   "source": [
    "array.mean()"
   ]
  },
  {
   "cell_type": "code",
   "execution_count": 23,
   "id": "672303f3-6c0e-437e-926b-bb621e69ae48",
   "metadata": {},
   "outputs": [
    {
     "data": {
      "text/plain": [
       "183.0746527333522"
      ]
     },
     "execution_count": 23,
     "metadata": {},
     "output_type": "execute_result"
    }
   ],
   "source": [
    "array.std()"
   ]
  },
  {
   "cell_type": "code",
   "execution_count": 25,
   "id": "a4175ee3-aca0-4a2c-81a3-936b7d22ad12",
   "metadata": {},
   "outputs": [
    {
     "data": {
      "text/plain": [
       "[1, 5, 8, -10, 28, 34, 567, 45.67]"
      ]
     },
     "execution_count": 25,
     "metadata": {},
     "output_type": "execute_result"
    }
   ],
   "source": [
    "number"
   ]
  },
  {
   "cell_type": "code",
   "execution_count": 27,
   "id": "efa62cc2-69c6-4856-905b-f99885c93587",
   "metadata": {},
   "outputs": [
    {
     "data": {
      "text/plain": [
       "array([  0.4  ,   2.   ,   3.2  ,  -4.   ,  11.2  ,  13.6  , 226.8  ,\n",
       "        18.268])"
      ]
     },
     "execution_count": 27,
     "metadata": {},
     "output_type": "execute_result"
    }
   ],
   "source": [
    "array/2.5#"
   ]
  },
  {
   "cell_type": "code",
   "execution_count": 45,
   "id": "cd9bce37-bef7-4ec8-b345-068218eabe14",
   "metadata": {},
   "outputs": [
    {
     "data": {
      "text/plain": [
       "array([458])"
      ]
     },
     "execution_count": 45,
     "metadata": {},
     "output_type": "execute_result"
    }
   ],
   "source": [
    "import numpy as np\n",
    "\n",
    "numeri = [20, 85, 78, 458, 85, 12, 54, 96]\n",
    "numery = np.array(numeri)\n",
    "filtro=numery>400\n",
    "numery[filtro]"
   ]
  },
  {
   "cell_type": "code",
   "execution_count": 41,
   "id": "36517b57-5ac7-40f2-8c1e-3cc73f4c3b00",
   "metadata": {},
   "outputs": [
    {
     "data": {
      "text/plain": [
       "array([ 20,  85,  78, 458,  85,  12,  54,  96])"
      ]
     },
     "execution_count": 41,
     "metadata": {},
     "output_type": "execute_result"
    }
   ],
   "source": [
    "numery"
   ]
  },
  {
   "cell_type": "code",
   "execution_count": 1,
   "id": "f64dc5f8-6423-4c39-a243-0969a6532b27",
   "metadata": {},
   "outputs": [
    {
     "name": "stdout",
     "output_type": "stream",
     "text": [
      "Collecting PyMySQL\n",
      "  Downloading PyMySQL-1.1.1-py3-none-any.whl.metadata (4.4 kB)\n",
      "Downloading PyMySQL-1.1.1-py3-none-any.whl (44 kB)\n",
      "Installing collected packages: PyMySQL\n",
      "Successfully installed PyMySQL-1.1.1\n",
      "Note: you may need to restart the kernel to use updated packages.\n"
     ]
    }
   ],
   "source": [
    "pip install PyMySQL"
   ]
  },
  {
   "cell_type": "code",
   "execution_count": 23,
   "id": "020975bc-ad0a-4812-914c-be973d6ad156",
   "metadata": {},
   "outputs": [],
   "source": [
    "lst = [2000, 5500, 7200, 4320, 1280, 1900, 2500, 3900, 6410, 8150, 7100, 5350]\n",
    "lst2_month2= [2500, 3900, 6410, 8150, 7100, 5350]\n",
    "lst2_month1= [2000, 5500, 7200, 4320, 1280, 1900]"
   ]
  },
  {
   "cell_type": "code",
   "execution_count": 43,
   "id": "6beea8e1-25c3-4a17-b355-daf2ffb50307",
   "metadata": {},
   "outputs": [],
   "source": [
    "import numpy as np\n",
    "\n",
    "lst = np.array(lst)\n",
    "lst2_month2=np.array(lst2_month2)\n",
    "lst2_month1=np.array(lst2_month1)\n",
    "somma_totale = np.sum(lst)\n",
    "vendite_mensili = np.array([2000, 5500, 7200, 4320, 1280, 1900, 2500, 3900, 6410, 8150, 7100, 5350])\n",
    "lst = [2000, 5500, 7200, 4320, 1280, 1900, 2500, 3900, 6410, 8150, 7100, 5350]\n",
    "lst2_month2= [2500, 3900, 6410, 8150, 7100, 5350]\n",
    "lst2_month1= [2000, 5500, 7200, 4320, 1280, 1900]"
   ]
  },
  {
   "cell_type": "code",
   "execution_count": 15,
   "id": "60185ce3-811a-4d9f-9b77-63a7a0254362",
   "metadata": {},
   "outputs": [
    {
     "name": "stdout",
     "output_type": "stream",
     "text": [
      "[2000, 5500, 7200, 4320, 1280, 1900, 2500, 3900, 6410, 8150, 7100, 5350]\n"
     ]
    }
   ],
   "source": [
    "print(lst)"
   ]
  },
  {
   "cell_type": "code",
   "execution_count": 45,
   "id": "86896ea1-ed76-4a52-ab41-dcfff204eef9",
   "metadata": {},
   "outputs": [
    {
     "name": "stdout",
     "output_type": "stream",
     "text": [
      "Somma totale con NumPy: 55610\n",
      "Vendite mensili maggiori di 4999 oggetti: [5500 7200 6410 8150 7100 5350]\n",
      "Somma totale mese: 55610\n",
      "Vendite mensili maggiori di 3000 oggetti: [5500 7200 4320 3900 6410 8150 7100 5350]\n",
      "Valore minimo: 1280\n",
      "Valore massimo: 8150\n",
      "ecco il valore minimo del primo mese: 2500\n",
      "ecco il Valore massimo del primo mese: 7200\n",
      "ecco il valore minimo del secondo mese: 1280\n",
      "ecco il Valore massimo del secondo mese: 8150\n"
     ]
    }
   ],
   "source": [
    "minimo = np.min(lst)\n",
    "minimo2 = np.min(lst2_month2)\n",
    "minimo3 = np.min(lst2_month1)\n",
    "massimo = np.max(lst)\n",
    "massimo2 = np.max(lst2_month1)\n",
    "massimo3 = np.max(lst2_month2)\n",
    "somma_totale = np.sum(lst)\n",
    "print(\"Somma totale con NumPy:\", somma_totale)\n",
    "vendite_maggiori = vendite_mensili[vendite_mensili > 4999]\n",
    "vendite_maggiori2 = vendite_mensili[vendite_mensili > 3000]\n",
    "print(\"Vendite mensili maggiori di 4999 oggetti:\", vendite_maggiori)\n",
    "print(\"Somma totale mese:\", somma_totale)\n",
    "print(\"Vendite mensili maggiori di 3000 oggetti:\", vendite_maggiori2)\n",
    "print(\"Valore minimo:\", minimo)\n",
    "print(\"Valore massimo:\", massimo)\n",
    "print(\"ecco il valore minimo del primo mese:\", minimo2)\n",
    "print(\"ecco il Valore massimo del primo mese:\", massimo2)\n",
    "print(\"ecco il valore minimo del secondo mese:\", minimo3)\n",
    "print(\"ecco il Valore massimo del secondo mese:\", massimo3)"
   ]
  },
  {
   "cell_type": "code",
   "execution_count": 51,
   "id": "54adf096-c295-4d12-abac-b28c5b324c67",
   "metadata": {},
   "outputs": [],
   "source": [
    "import numpy as np "
   ]
  },
  {
   "cell_type": "code",
   "execution_count": 53,
   "id": "232f54d2-bdec-4237-bd7b-02993c446ba5",
   "metadata": {},
   "outputs": [],
   "source": [
    "stipendi = np.array( [100, 200, 300, 400, 500,  600, 700, 800, 900, 1000] )"
   ]
  },
  {
   "cell_type": "code",
   "execution_count": 55,
   "id": "c86d9968-d544-4677-b534-fc41967eb21b",
   "metadata": {},
   "outputs": [
    {
     "data": {
      "text/plain": [
       "array([ 200,  400,  600,  800, 1000, 1200, 1400, 1600, 1800, 2000])"
      ]
     },
     "execution_count": 55,
     "metadata": {},
     "output_type": "execute_result"
    }
   ],
   "source": [
    "stipendi*2"
   ]
  },
  {
   "cell_type": "code",
   "execution_count": 71,
   "id": "4976c138-7d44-4b0f-b533-0c83971b1bba",
   "metadata": {},
   "outputs": [
    {
     "name": "stdout",
     "output_type": "stream",
     "text": [
      "200\n",
      "400\n",
      "600\n",
      "800\n",
      "1000\n",
      "1200\n",
      "1400\n",
      "1600\n",
      "1800\n",
      "2000\n"
     ]
    }
   ],
   "source": [
    "stipendi = [100, 200, 300, 400, 500, 600, 700, 800, 900, 1000]\n",
    "for stipendio in stipendi:\n",
    "    print(stipendio * 2) \n"
   ]
  },
  {
   "cell_type": "code",
   "execution_count": null,
   "id": "71111216-0b24-48b2-9d1e-b86280b5db05",
   "metadata": {},
   "outputs": [],
   "source": []
  }
 ],
 "metadata": {
  "kernelspec": {
   "display_name": "Python [conda env:base] *",
   "language": "python",
   "name": "conda-base-py"
  },
  "language_info": {
   "codemirror_mode": {
    "name": "ipython",
    "version": 3
   },
   "file_extension": ".py",
   "mimetype": "text/x-python",
   "name": "python",
   "nbconvert_exporter": "python",
   "pygments_lexer": "ipython3",
   "version": "3.12.7"
  }
 },
 "nbformat": 4,
 "nbformat_minor": 5
}
